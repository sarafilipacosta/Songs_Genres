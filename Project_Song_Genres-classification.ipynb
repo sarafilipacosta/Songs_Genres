{
 "cells": [
  {
   "cell_type": "markdown",
   "id": "67f7ebda",
   "metadata": {},
   "source": [
    "# 0- Import libraries"
   ]
  },
  {
   "cell_type": "code",
   "execution_count": 1,
   "id": "0e9ded88",
   "metadata": {},
   "outputs": [],
   "source": [
    "import pandas as pd\n",
    "import numpy as np\n",
    "import zipfile\n",
    "import seaborn as sns #library  data visualization\n",
    "import matplotlib.pyplot as plt #2D plotting library used in Python\n",
    "from sklearn.model_selection import train_test_split # train_test_split and decision tree classifier\n",
    "from sklearn.tree import DecisionTreeClassifier\n",
    "import matplotlib.pyplot as plt\n",
    "from sklearn.decomposition import PCA\n",
    "from sklearn.metrics import accuracy_score\n",
    "from sklearn.model_selection import KFold, cross_val_score\n",
    "from sklearn.pipeline import Pipeline"
   ]
  },
  {
   "cell_type": "markdown",
   "id": "6b6e75db",
   "metadata": {},
   "source": [
    "# 1- Preparing our dataset"
   ]
  },
  {
   "cell_type": "code",
   "execution_count": 2,
   "id": "4f3dbf59",
   "metadata": {},
   "outputs": [],
   "source": [
    "zf = zipfile.ZipFile('fma-rock-vs-hiphop.csv.zip') \n",
    "tracks = pd.read_csv(zf.open('fma-rock-vs-hiphop.csv'))\n",
    "\n",
    "zf1 = zipfile.ZipFile('echonest-metrics.json.zip') \n",
    "echonest_metrics = pd.read_json(zf1.open('echonest-metrics.json'))"
   ]
  },
  {
   "cell_type": "code",
   "execution_count": 3,
   "id": "eab6c9e5",
   "metadata": {},
   "outputs": [
    {
     "data": {
      "text/plain": [
       "(   track_id  bit_rate  comments        composer         date_created  \\\n",
       " 0       135    256000         1             NaN  2008-11-26 01:43:26   \n",
       " 1       136    256000         1             NaN  2008-11-26 01:43:35   \n",
       " 2       151    192000         0             NaN  2008-11-26 01:44:55   \n",
       " 3       152    192000         0             NaN  2008-11-26 01:44:58   \n",
       " 4       153    256000         0  Arc and Sender  2008-11-26 01:45:00   \n",
       " \n",
       "          date_recorded  duration  favorites genre_top    genres  ...  \\\n",
       " 0  2008-11-26 00:00:00       837          0      Rock  [45, 58]  ...   \n",
       " 1  2008-11-26 00:00:00       509          0      Rock  [45, 58]  ...   \n",
       " 2                  NaN       192          0      Rock      [25]  ...   \n",
       " 3                  NaN       193          0      Rock      [25]  ...   \n",
       " 4  2008-11-26 00:00:00       405          5      Rock      [26]  ...   \n",
       " \n",
       "   information interest  language_code  \\\n",
       " 0         NaN     2484             en   \n",
       " 1         NaN     1948             en   \n",
       " 2         NaN      701             en   \n",
       " 3         NaN      637             en   \n",
       " 4         NaN      354             en   \n",
       " \n",
       "                                              license listens  lyricist number  \\\n",
       " 0  Attribution-NonCommercial-ShareAlike 3.0 Inter...    1832       NaN      0   \n",
       " 1  Attribution-NonCommercial-ShareAlike 3.0 Inter...    1498       NaN      0   \n",
       " 2  Attribution-NonCommercial-ShareAlike 3.0 Inter...     148       NaN      4   \n",
       " 3  Attribution-NonCommercial-ShareAlike 3.0 Inter...      98       NaN     11   \n",
       " 4  Attribution-NonCommercial-NoDerivatives (aka M...     424       NaN      2   \n",
       " \n",
       "    publisher tags                       title  \n",
       " 0        NaN   []                Father's Day  \n",
       " 1        NaN   []  Peel Back The Mountain Sky  \n",
       " 2        NaN   []                 Untitled 04  \n",
       " 3        NaN   []                 Untitled 11  \n",
       " 4        NaN   []          Hundred-Year Flood  \n",
       " \n",
       " [5 rows x 21 columns],\n",
       "    track_id  acousticness  danceability    energy  instrumentalness  liveness  \\\n",
       " 0         2      0.416675      0.675894  0.634476          0.010628  0.177647   \n",
       " 1         3      0.374408      0.528643  0.817461          0.001851  0.105880   \n",
       " 2         5      0.043567      0.745566  0.701470          0.000697  0.373143   \n",
       " 3        10      0.951670      0.658179  0.924525          0.965427  0.115474   \n",
       " 4       134      0.452217      0.513238  0.560410          0.019443  0.096567   \n",
       " \n",
       "    speechiness    tempo   valence  \n",
       " 0     0.159310  165.922  0.576661  \n",
       " 1     0.461818  126.957  0.269240  \n",
       " 2     0.124595  100.260  0.621661  \n",
       " 3     0.032985  111.562  0.963590  \n",
       " 4     0.525519  114.290  0.894072  )"
      ]
     },
     "execution_count": 3,
     "metadata": {},
     "output_type": "execute_result"
    }
   ],
   "source": [
    "tracks.head(), echonest_metrics.head()\n",
    "# df.shape"
   ]
  },
  {
   "cell_type": "markdown",
   "id": "7e27a6a3",
   "metadata": {},
   "source": [
    "## Merge the relevant columns of tracks and echonest_metrics"
   ]
  },
  {
   "cell_type": "code",
   "execution_count": 4,
   "id": "94c6c6fc",
   "metadata": {},
   "outputs": [
    {
     "data": {
      "text/html": [
       "<div>\n",
       "<style scoped>\n",
       "    .dataframe tbody tr th:only-of-type {\n",
       "        vertical-align: middle;\n",
       "    }\n",
       "\n",
       "    .dataframe tbody tr th {\n",
       "        vertical-align: top;\n",
       "    }\n",
       "\n",
       "    .dataframe thead th {\n",
       "        text-align: right;\n",
       "    }\n",
       "</style>\n",
       "<table border=\"1\" class=\"dataframe\">\n",
       "  <thead>\n",
       "    <tr style=\"text-align: right;\">\n",
       "      <th></th>\n",
       "      <th>track_id</th>\n",
       "      <th>acousticness</th>\n",
       "      <th>danceability</th>\n",
       "      <th>energy</th>\n",
       "      <th>instrumentalness</th>\n",
       "      <th>liveness</th>\n",
       "      <th>speechiness</th>\n",
       "      <th>tempo</th>\n",
       "      <th>valence</th>\n",
       "      <th>genre_top</th>\n",
       "    </tr>\n",
       "  </thead>\n",
       "  <tbody>\n",
       "    <tr>\n",
       "      <th>0</th>\n",
       "      <td>2</td>\n",
       "      <td>0.416675</td>\n",
       "      <td>0.675894</td>\n",
       "      <td>0.634476</td>\n",
       "      <td>0.010628</td>\n",
       "      <td>0.177647</td>\n",
       "      <td>0.159310</td>\n",
       "      <td>165.922</td>\n",
       "      <td>0.576661</td>\n",
       "      <td>Hip-Hop</td>\n",
       "    </tr>\n",
       "    <tr>\n",
       "      <th>1</th>\n",
       "      <td>3</td>\n",
       "      <td>0.374408</td>\n",
       "      <td>0.528643</td>\n",
       "      <td>0.817461</td>\n",
       "      <td>0.001851</td>\n",
       "      <td>0.105880</td>\n",
       "      <td>0.461818</td>\n",
       "      <td>126.957</td>\n",
       "      <td>0.269240</td>\n",
       "      <td>Hip-Hop</td>\n",
       "    </tr>\n",
       "    <tr>\n",
       "      <th>2</th>\n",
       "      <td>5</td>\n",
       "      <td>0.043567</td>\n",
       "      <td>0.745566</td>\n",
       "      <td>0.701470</td>\n",
       "      <td>0.000697</td>\n",
       "      <td>0.373143</td>\n",
       "      <td>0.124595</td>\n",
       "      <td>100.260</td>\n",
       "      <td>0.621661</td>\n",
       "      <td>Hip-Hop</td>\n",
       "    </tr>\n",
       "    <tr>\n",
       "      <th>3</th>\n",
       "      <td>134</td>\n",
       "      <td>0.452217</td>\n",
       "      <td>0.513238</td>\n",
       "      <td>0.560410</td>\n",
       "      <td>0.019443</td>\n",
       "      <td>0.096567</td>\n",
       "      <td>0.525519</td>\n",
       "      <td>114.290</td>\n",
       "      <td>0.894072</td>\n",
       "      <td>Hip-Hop</td>\n",
       "    </tr>\n",
       "    <tr>\n",
       "      <th>4</th>\n",
       "      <td>153</td>\n",
       "      <td>0.988306</td>\n",
       "      <td>0.255661</td>\n",
       "      <td>0.979774</td>\n",
       "      <td>0.973006</td>\n",
       "      <td>0.121342</td>\n",
       "      <td>0.051740</td>\n",
       "      <td>90.241</td>\n",
       "      <td>0.034018</td>\n",
       "      <td>Rock</td>\n",
       "    </tr>\n",
       "  </tbody>\n",
       "</table>\n",
       "</div>"
      ],
      "text/plain": [
       "   track_id  acousticness  danceability    energy  instrumentalness  liveness  \\\n",
       "0         2      0.416675      0.675894  0.634476          0.010628  0.177647   \n",
       "1         3      0.374408      0.528643  0.817461          0.001851  0.105880   \n",
       "2         5      0.043567      0.745566  0.701470          0.000697  0.373143   \n",
       "3       134      0.452217      0.513238  0.560410          0.019443  0.096567   \n",
       "4       153      0.988306      0.255661  0.979774          0.973006  0.121342   \n",
       "\n",
       "   speechiness    tempo   valence genre_top  \n",
       "0     0.159310  165.922  0.576661   Hip-Hop  \n",
       "1     0.461818  126.957  0.269240   Hip-Hop  \n",
       "2     0.124595  100.260  0.621661   Hip-Hop  \n",
       "3     0.525519  114.290  0.894072   Hip-Hop  \n",
       "4     0.051740   90.241  0.034018      Rock  "
      ]
     },
     "execution_count": 4,
     "metadata": {},
     "output_type": "execute_result"
    }
   ],
   "source": [
    "echo_tracks =echo_tracks = echonest_metrics.merge(tracks[['track_id','genre_top']],on='track_id')\n",
    "\n",
    "echo_tracks.head()"
   ]
  },
  {
   "cell_type": "markdown",
   "id": "ba79cd03",
   "metadata": {},
   "source": [
    "### unique genre_top"
   ]
  },
  {
   "cell_type": "code",
   "execution_count": 5,
   "id": "3a2991cb",
   "metadata": {},
   "outputs": [
    {
     "name": "stdout",
     "output_type": "stream",
     "text": [
      "['Hip-Hop' 'Rock']\n"
     ]
    }
   ],
   "source": [
    "print(np.sort(echo_tracks['genre_top'].unique()))"
   ]
  },
  {
   "cell_type": "markdown",
   "id": "c42a2b96",
   "metadata": {},
   "source": [
    "# 2 - Pairwise Relationshipd between continuous variables"
   ]
  },
  {
   "cell_type": "code",
   "execution_count": 6,
   "id": "eda0a8bd",
   "metadata": {},
   "outputs": [
    {
     "data": {
      "text/html": [
       "<style  type=\"text/css\" >\n",
       "#T_3e7d4_row0_col0,#T_3e7d4_row1_col1,#T_3e7d4_row2_col2,#T_3e7d4_row3_col3,#T_3e7d4_row4_col4,#T_3e7d4_row5_col5,#T_3e7d4_row6_col6,#T_3e7d4_row7_col7,#T_3e7d4_row8_col8{\n",
       "            background-color:  #023858;\n",
       "            color:  #f1f1f1;\n",
       "        }#T_3e7d4_row0_col1,#T_3e7d4_row1_col0,#T_3e7d4_row1_col3,#T_3e7d4_row2_col5,#T_3e7d4_row2_col7,#T_3e7d4_row4_col2,#T_3e7d4_row4_col6,#T_3e7d4_row4_col8,#T_3e7d4_row6_col4{\n",
       "            background-color:  #fff7fb;\n",
       "            color:  #000000;\n",
       "        }#T_3e7d4_row0_col2{\n",
       "            background-color:  #d2d2e7;\n",
       "            color:  #000000;\n",
       "        }#T_3e7d4_row0_col3{\n",
       "            background-color:  #b5c4df;\n",
       "            color:  #000000;\n",
       "        }#T_3e7d4_row0_col4{\n",
       "            background-color:  #f5eef6;\n",
       "            color:  #000000;\n",
       "        }#T_3e7d4_row0_col5{\n",
       "            background-color:  #e9e5f1;\n",
       "            color:  #000000;\n",
       "        }#T_3e7d4_row0_col6,#T_3e7d4_row8_col3{\n",
       "            background-color:  #d1d2e6;\n",
       "            color:  #000000;\n",
       "        }#T_3e7d4_row0_col7,#T_3e7d4_row1_col7{\n",
       "            background-color:  #e1dfed;\n",
       "            color:  #000000;\n",
       "        }#T_3e7d4_row0_col8,#T_3e7d4_row3_col6{\n",
       "            background-color:  #dedcec;\n",
       "            color:  #000000;\n",
       "        }#T_3e7d4_row1_col2{\n",
       "            background-color:  #e0dded;\n",
       "            color:  #000000;\n",
       "        }#T_3e7d4_row1_col4,#T_3e7d4_row4_col1{\n",
       "            background-color:  #97b7d7;\n",
       "            color:  #000000;\n",
       "        }#T_3e7d4_row1_col5,#T_3e7d4_row2_col4{\n",
       "            background-color:  #f3edf5;\n",
       "            color:  #000000;\n",
       "        }#T_3e7d4_row1_col6,#T_3e7d4_row6_col1{\n",
       "            background-color:  #b8c6e0;\n",
       "            color:  #000000;\n",
       "        }#T_3e7d4_row1_col8{\n",
       "            background-color:  #e2dfee;\n",
       "            color:  #000000;\n",
       "        }#T_3e7d4_row2_col0,#T_3e7d4_row5_col0,#T_3e7d4_row5_col3{\n",
       "            background-color:  #bdc8e1;\n",
       "            color:  #000000;\n",
       "        }#T_3e7d4_row2_col1,#T_3e7d4_row6_col0,#T_3e7d4_row7_col0,#T_3e7d4_row7_col1{\n",
       "            background-color:  #d0d1e6;\n",
       "            color:  #000000;\n",
       "        }#T_3e7d4_row2_col3{\n",
       "            background-color:  #fbf3f9;\n",
       "            color:  #000000;\n",
       "        }#T_3e7d4_row2_col6{\n",
       "            background-color:  #80aed2;\n",
       "            color:  #000000;\n",
       "        }#T_3e7d4_row2_col8{\n",
       "            background-color:  #529bc7;\n",
       "            color:  #000000;\n",
       "        }#T_3e7d4_row3_col0,#T_3e7d4_row7_col3{\n",
       "            background-color:  #a7bddb;\n",
       "            color:  #000000;\n",
       "        }#T_3e7d4_row3_col1{\n",
       "            background-color:  #f5eff6;\n",
       "            color:  #000000;\n",
       "        }#T_3e7d4_row3_col2,#T_3e7d4_row7_col2{\n",
       "            background-color:  #fef6fa;\n",
       "            color:  #000000;\n",
       "        }#T_3e7d4_row3_col4{\n",
       "            background-color:  #c4cbe3;\n",
       "            color:  #000000;\n",
       "        }#T_3e7d4_row3_col5,#T_3e7d4_row5_col7{\n",
       "            background-color:  #dcdaeb;\n",
       "            color:  #000000;\n",
       "        }#T_3e7d4_row3_col7{\n",
       "            background-color:  #adc1dd;\n",
       "            color:  #000000;\n",
       "        }#T_3e7d4_row3_col8,#T_3e7d4_row4_col7{\n",
       "            background-color:  #d9d8ea;\n",
       "            color:  #000000;\n",
       "        }#T_3e7d4_row4_col0{\n",
       "            background-color:  #f4eef6;\n",
       "            color:  #000000;\n",
       "        }#T_3e7d4_row4_col3{\n",
       "            background-color:  #d2d3e7;\n",
       "            color:  #000000;\n",
       "        }#T_3e7d4_row4_col5{\n",
       "            background-color:  #fdf5fa;\n",
       "            color:  #000000;\n",
       "        }#T_3e7d4_row5_col1{\n",
       "            background-color:  #ced0e6;\n",
       "            color:  #000000;\n",
       "        }#T_3e7d4_row5_col2{\n",
       "            background-color:  #ede8f3;\n",
       "            color:  #000000;\n",
       "        }#T_3e7d4_row5_col4,#T_3e7d4_row6_col7{\n",
       "            background-color:  #dbdaeb;\n",
       "            color:  #000000;\n",
       "        }#T_3e7d4_row5_col6{\n",
       "            background-color:  #c0c9e2;\n",
       "            color:  #000000;\n",
       "        }#T_3e7d4_row5_col8{\n",
       "            background-color:  #e8e4f0;\n",
       "            color:  #000000;\n",
       "        }#T_3e7d4_row6_col2{\n",
       "            background-color:  #93b5d6;\n",
       "            color:  #000000;\n",
       "        }#T_3e7d4_row6_col3,#T_3e7d4_row6_col5{\n",
       "            background-color:  #eae6f1;\n",
       "            color:  #000000;\n",
       "        }#T_3e7d4_row6_col8{\n",
       "            background-color:  #bfc9e1;\n",
       "            color:  #000000;\n",
       "        }#T_3e7d4_row7_col4{\n",
       "            background-color:  #c5cce3;\n",
       "            color:  #000000;\n",
       "        }#T_3e7d4_row7_col5{\n",
       "            background-color:  #f0eaf4;\n",
       "            color:  #000000;\n",
       "        }#T_3e7d4_row7_col6{\n",
       "            background-color:  #c8cde4;\n",
       "            color:  #000000;\n",
       "        }#T_3e7d4_row7_col8{\n",
       "            background-color:  #d6d6e9;\n",
       "            color:  #000000;\n",
       "        }#T_3e7d4_row8_col0{\n",
       "            background-color:  #c6cce3;\n",
       "            color:  #000000;\n",
       "        }#T_3e7d4_row8_col1{\n",
       "            background-color:  #cdd0e5;\n",
       "            color:  #000000;\n",
       "        }#T_3e7d4_row8_col2{\n",
       "            background-color:  #4c99c5;\n",
       "            color:  #000000;\n",
       "        }#T_3e7d4_row8_col4{\n",
       "            background-color:  #efe9f3;\n",
       "            color:  #000000;\n",
       "        }#T_3e7d4_row8_col5{\n",
       "            background-color:  #f7f0f7;\n",
       "            color:  #000000;\n",
       "        }#T_3e7d4_row8_col6{\n",
       "            background-color:  #a5bddb;\n",
       "            color:  #000000;\n",
       "        }#T_3e7d4_row8_col7{\n",
       "            background-color:  #d3d4e7;\n",
       "            color:  #000000;\n",
       "        }</style><table id=\"T_3e7d4_\" ><thead>    <tr>        <th class=\"blank level0\" ></th>        <th class=\"col_heading level0 col0\" >track_id</th>        <th class=\"col_heading level0 col1\" >acousticness</th>        <th class=\"col_heading level0 col2\" >danceability</th>        <th class=\"col_heading level0 col3\" >energy</th>        <th class=\"col_heading level0 col4\" >instrumentalness</th>        <th class=\"col_heading level0 col5\" >liveness</th>        <th class=\"col_heading level0 col6\" >speechiness</th>        <th class=\"col_heading level0 col7\" >tempo</th>        <th class=\"col_heading level0 col8\" >valence</th>    </tr></thead><tbody>\n",
       "                <tr>\n",
       "                        <th id=\"T_3e7d4_level0_row0\" class=\"row_heading level0 row0\" >track_id</th>\n",
       "                        <td id=\"T_3e7d4_row0_col0\" class=\"data row0 col0\" >1.000000</td>\n",
       "                        <td id=\"T_3e7d4_row0_col1\" class=\"data row0 col1\" >-0.372282</td>\n",
       "                        <td id=\"T_3e7d4_row0_col2\" class=\"data row0 col2\" >0.049454</td>\n",
       "                        <td id=\"T_3e7d4_row0_col3\" class=\"data row0 col3\" >0.140703</td>\n",
       "                        <td id=\"T_3e7d4_row0_col4\" class=\"data row0 col4\" >-0.275623</td>\n",
       "                        <td id=\"T_3e7d4_row0_col5\" class=\"data row0 col5\" >0.048231</td>\n",
       "                        <td id=\"T_3e7d4_row0_col6\" class=\"data row0 col6\" >-0.026995</td>\n",
       "                        <td id=\"T_3e7d4_row0_col7\" class=\"data row0 col7\" >-0.025392</td>\n",
       "                        <td id=\"T_3e7d4_row0_col8\" class=\"data row0 col8\" >0.010070</td>\n",
       "            </tr>\n",
       "            <tr>\n",
       "                        <th id=\"T_3e7d4_level0_row1\" class=\"row_heading level0 row1\" >acousticness</th>\n",
       "                        <td id=\"T_3e7d4_row1_col0\" class=\"data row1 col0\" >-0.372282</td>\n",
       "                        <td id=\"T_3e7d4_row1_col1\" class=\"data row1 col1\" >1.000000</td>\n",
       "                        <td id=\"T_3e7d4_row1_col2\" class=\"data row1 col2\" >-0.028954</td>\n",
       "                        <td id=\"T_3e7d4_row1_col3\" class=\"data row1 col3\" >-0.281619</td>\n",
       "                        <td id=\"T_3e7d4_row1_col4\" class=\"data row1 col4\" >0.194780</td>\n",
       "                        <td id=\"T_3e7d4_row1_col5\" class=\"data row1 col5\" >-0.019991</td>\n",
       "                        <td id=\"T_3e7d4_row1_col6\" class=\"data row1 col6\" >0.072204</td>\n",
       "                        <td id=\"T_3e7d4_row1_col7\" class=\"data row1 col7\" >-0.026310</td>\n",
       "                        <td id=\"T_3e7d4_row1_col8\" class=\"data row1 col8\" >-0.013841</td>\n",
       "            </tr>\n",
       "            <tr>\n",
       "                        <th id=\"T_3e7d4_level0_row2\" class=\"row_heading level0 row2\" >danceability</th>\n",
       "                        <td id=\"T_3e7d4_row2_col0\" class=\"data row2 col0\" >0.049454</td>\n",
       "                        <td id=\"T_3e7d4_row2_col1\" class=\"data row2 col1\" >-0.028954</td>\n",
       "                        <td id=\"T_3e7d4_row2_col2\" class=\"data row2 col2\" >1.000000</td>\n",
       "                        <td id=\"T_3e7d4_row2_col3\" class=\"data row2 col3\" >-0.242032</td>\n",
       "                        <td id=\"T_3e7d4_row2_col4\" class=\"data row2 col4\" >-0.255217</td>\n",
       "                        <td id=\"T_3e7d4_row2_col5\" class=\"data row2 col5\" >-0.106584</td>\n",
       "                        <td id=\"T_3e7d4_row2_col6\" class=\"data row2 col6\" >0.276206</td>\n",
       "                        <td id=\"T_3e7d4_row2_col7\" class=\"data row2 col7\" >-0.242089</td>\n",
       "                        <td id=\"T_3e7d4_row2_col8\" class=\"data row2 col8\" >0.473165</td>\n",
       "            </tr>\n",
       "            <tr>\n",
       "                        <th id=\"T_3e7d4_level0_row3\" class=\"row_heading level0 row3\" >energy</th>\n",
       "                        <td id=\"T_3e7d4_row3_col0\" class=\"data row3 col0\" >0.140703</td>\n",
       "                        <td id=\"T_3e7d4_row3_col1\" class=\"data row3 col1\" >-0.281619</td>\n",
       "                        <td id=\"T_3e7d4_row3_col2\" class=\"data row3 col2\" >-0.242032</td>\n",
       "                        <td id=\"T_3e7d4_row3_col3\" class=\"data row3 col3\" >1.000000</td>\n",
       "                        <td id=\"T_3e7d4_row3_col4\" class=\"data row3 col4\" >0.028238</td>\n",
       "                        <td id=\"T_3e7d4_row3_col5\" class=\"data row3 col5\" >0.113331</td>\n",
       "                        <td id=\"T_3e7d4_row3_col6\" class=\"data row3 col6\" >-0.109983</td>\n",
       "                        <td id=\"T_3e7d4_row3_col7\" class=\"data row3 col7\" >0.195227</td>\n",
       "                        <td id=\"T_3e7d4_row3_col8\" class=\"data row3 col8\" >0.038603</td>\n",
       "            </tr>\n",
       "            <tr>\n",
       "                        <th id=\"T_3e7d4_level0_row4\" class=\"row_heading level0 row4\" >instrumentalness</th>\n",
       "                        <td id=\"T_3e7d4_row4_col0\" class=\"data row4 col0\" >-0.275623</td>\n",
       "                        <td id=\"T_3e7d4_row4_col1\" class=\"data row4 col1\" >0.194780</td>\n",
       "                        <td id=\"T_3e7d4_row4_col2\" class=\"data row4 col2\" >-0.255217</td>\n",
       "                        <td id=\"T_3e7d4_row4_col3\" class=\"data row4 col3\" >0.028238</td>\n",
       "                        <td id=\"T_3e7d4_row4_col4\" class=\"data row4 col4\" >1.000000</td>\n",
       "                        <td id=\"T_3e7d4_row4_col5\" class=\"data row4 col5\" >-0.091022</td>\n",
       "                        <td id=\"T_3e7d4_row4_col6\" class=\"data row4 col6\" >-0.366762</td>\n",
       "                        <td id=\"T_3e7d4_row4_col7\" class=\"data row4 col7\" >0.022215</td>\n",
       "                        <td id=\"T_3e7d4_row4_col8\" class=\"data row4 col8\" >-0.219967</td>\n",
       "            </tr>\n",
       "            <tr>\n",
       "                        <th id=\"T_3e7d4_level0_row5\" class=\"row_heading level0 row5\" >liveness</th>\n",
       "                        <td id=\"T_3e7d4_row5_col0\" class=\"data row5 col0\" >0.048231</td>\n",
       "                        <td id=\"T_3e7d4_row5_col1\" class=\"data row5 col1\" >-0.019991</td>\n",
       "                        <td id=\"T_3e7d4_row5_col2\" class=\"data row5 col2\" >-0.106584</td>\n",
       "                        <td id=\"T_3e7d4_row5_col3\" class=\"data row5 col3\" >0.113331</td>\n",
       "                        <td id=\"T_3e7d4_row5_col4\" class=\"data row5 col4\" >-0.091022</td>\n",
       "                        <td id=\"T_3e7d4_row5_col5\" class=\"data row5 col5\" >1.000000</td>\n",
       "                        <td id=\"T_3e7d4_row5_col6\" class=\"data row5 col6\" >0.041173</td>\n",
       "                        <td id=\"T_3e7d4_row5_col7\" class=\"data row5 col7\" >0.002732</td>\n",
       "                        <td id=\"T_3e7d4_row5_col8\" class=\"data row5 col8\" >-0.045093</td>\n",
       "            </tr>\n",
       "            <tr>\n",
       "                        <th id=\"T_3e7d4_level0_row6\" class=\"row_heading level0 row6\" >speechiness</th>\n",
       "                        <td id=\"T_3e7d4_row6_col0\" class=\"data row6 col0\" >-0.026995</td>\n",
       "                        <td id=\"T_3e7d4_row6_col1\" class=\"data row6 col1\" >0.072204</td>\n",
       "                        <td id=\"T_3e7d4_row6_col2\" class=\"data row6 col2\" >0.276206</td>\n",
       "                        <td id=\"T_3e7d4_row6_col3\" class=\"data row6 col3\" >-0.109983</td>\n",
       "                        <td id=\"T_3e7d4_row6_col4\" class=\"data row6 col4\" >-0.366762</td>\n",
       "                        <td id=\"T_3e7d4_row6_col5\" class=\"data row6 col5\" >0.041173</td>\n",
       "                        <td id=\"T_3e7d4_row6_col6\" class=\"data row6 col6\" >1.000000</td>\n",
       "                        <td id=\"T_3e7d4_row6_col7\" class=\"data row6 col7\" >0.008241</td>\n",
       "                        <td id=\"T_3e7d4_row6_col8\" class=\"data row6 col8\" >0.149894</td>\n",
       "            </tr>\n",
       "            <tr>\n",
       "                        <th id=\"T_3e7d4_level0_row7\" class=\"row_heading level0 row7\" >tempo</th>\n",
       "                        <td id=\"T_3e7d4_row7_col0\" class=\"data row7 col0\" >-0.025392</td>\n",
       "                        <td id=\"T_3e7d4_row7_col1\" class=\"data row7 col1\" >-0.026310</td>\n",
       "                        <td id=\"T_3e7d4_row7_col2\" class=\"data row7 col2\" >-0.242089</td>\n",
       "                        <td id=\"T_3e7d4_row7_col3\" class=\"data row7 col3\" >0.195227</td>\n",
       "                        <td id=\"T_3e7d4_row7_col4\" class=\"data row7 col4\" >0.022215</td>\n",
       "                        <td id=\"T_3e7d4_row7_col5\" class=\"data row7 col5\" >0.002732</td>\n",
       "                        <td id=\"T_3e7d4_row7_col6\" class=\"data row7 col6\" >0.008241</td>\n",
       "                        <td id=\"T_3e7d4_row7_col7\" class=\"data row7 col7\" >1.000000</td>\n",
       "                        <td id=\"T_3e7d4_row7_col8\" class=\"data row7 col8\" >0.052221</td>\n",
       "            </tr>\n",
       "            <tr>\n",
       "                        <th id=\"T_3e7d4_level0_row8\" class=\"row_heading level0 row8\" >valence</th>\n",
       "                        <td id=\"T_3e7d4_row8_col0\" class=\"data row8 col0\" >0.010070</td>\n",
       "                        <td id=\"T_3e7d4_row8_col1\" class=\"data row8 col1\" >-0.013841</td>\n",
       "                        <td id=\"T_3e7d4_row8_col2\" class=\"data row8 col2\" >0.473165</td>\n",
       "                        <td id=\"T_3e7d4_row8_col3\" class=\"data row8 col3\" >0.038603</td>\n",
       "                        <td id=\"T_3e7d4_row8_col4\" class=\"data row8 col4\" >-0.219967</td>\n",
       "                        <td id=\"T_3e7d4_row8_col5\" class=\"data row8 col5\" >-0.045093</td>\n",
       "                        <td id=\"T_3e7d4_row8_col6\" class=\"data row8 col6\" >0.149894</td>\n",
       "                        <td id=\"T_3e7d4_row8_col7\" class=\"data row8 col7\" >0.052221</td>\n",
       "                        <td id=\"T_3e7d4_row8_col8\" class=\"data row8 col8\" >1.000000</td>\n",
       "            </tr>\n",
       "    </tbody></table>"
      ],
      "text/plain": [
       "<pandas.io.formats.style.Styler at 0x123100614c0>"
      ]
     },
     "execution_count": 6,
     "metadata": {},
     "output_type": "execute_result"
    }
   ],
   "source": [
    "# Create a correlation matrix\n",
    "corr_metrics = echo_tracks.corr()\n",
    "corr_metrics.style.background_gradient()"
   ]
  },
  {
   "cell_type": "markdown",
   "id": "5fb5d049",
   "metadata": {},
   "source": [
    "more correlation between interest and listens because is up to 0.9"
   ]
  },
  {
   "cell_type": "markdown",
   "id": "c1f70b69",
   "metadata": {},
   "source": [
    "Here we can see an interesting correlation between danceability and valence, but it's not strong enough."
   ]
  },
  {
   "cell_type": "markdown",
   "id": "05a93dea",
   "metadata": {},
   "source": [
    "# 3- Splitting our data\n",
    "- Create features by storing all values of the echo_tracks DataFrame except for the \"genre_top\" and \"track_id\" columns.\n",
    "- Create labels as an array of the \"genre_top\" column from the DataFrame.\n",
    "- Split our projected data into train and tests, features and labels, respectively using train_test_split() with random_state=10."
   ]
  },
  {
   "cell_type": "code",
   "execution_count": 7,
   "id": "0c394029",
   "metadata": {},
   "outputs": [
    {
     "data": {
      "text/plain": [
       "(array([[4.16675233e-01, 6.75893985e-01, 6.34476268e-01, ...,\n",
       "         1.59310065e-01, 1.65922000e+02, 5.76660988e-01],\n",
       "        [3.74407769e-01, 5.28643062e-01, 8.17461132e-01, ...,\n",
       "         4.61818128e-01, 1.26957000e+02, 2.69240242e-01],\n",
       "        [4.35668989e-02, 7.45565870e-01, 7.01469992e-01, ...,\n",
       "         1.24595342e-01, 1.00260000e+02, 6.21661224e-01],\n",
       "        ...,\n",
       "        [1.04777022e-02, 6.52483062e-01, 6.57497709e-01, ...,\n",
       "         2.29174375e-01, 9.48850000e+01, 4.32240157e-01],\n",
       "        [6.79063452e-02, 4.32421004e-01, 7.64508334e-01, ...,\n",
       "         3.10552525e-01, 1.71329000e+02, 5.80087111e-01],\n",
       "        [1.53518164e-01, 6.38659813e-01, 7.62567227e-01, ...,\n",
       "         3.03372337e-01, 7.78420000e+01, 6.56612274e-01]]),\n",
       " array(['Hip-Hop', 'Hip-Hop', 'Hip-Hop', ..., 'Hip-Hop', 'Hip-Hop',\n",
       "        'Hip-Hop'], dtype=object))"
      ]
     },
     "execution_count": 7,
     "metadata": {},
     "output_type": "execute_result"
    }
   ],
   "source": [
    "# Create features\n",
    "a= echo_tracks.drop(['genre_top','track_id'],axis=1)\n",
    "features = echo_tracks.drop(['genre_top','track_id'],axis=1).values\n",
    "\n",
    "# Create labels\n",
    "labels = echo_tracks['genre_top'].values\n",
    "\n",
    "features, labels"
   ]
  },
  {
   "cell_type": "code",
   "execution_count": 8,
   "id": "28af48b4",
   "metadata": {},
   "outputs": [],
   "source": [
    "# Split our data\n",
    "\n",
    "train_features, test_features, train_labels, test_labels = train_test_split(features, labels,\n",
    "                                                                            test_size=0.33, random_state = 10)"
   ]
  },
  {
   "cell_type": "markdown",
   "id": "6b902f6c",
   "metadata": {},
   "source": [
    "# 4- Normalizing the feature data"
   ]
  },
  {
   "cell_type": "code",
   "execution_count": 9,
   "id": "634a3487",
   "metadata": {},
   "outputs": [],
   "source": [
    "# Import the StandardScaler\n",
    "from sklearn.preprocessing import StandardScaler #Standardization is a scaling technique, the entire data set scales with a zero mean and unit variance, altogether\n",
    "\n",
    "# Scale the features and set the values to a new variable\n",
    "scaler = StandardScaler()\n",
    "\n",
    "# Scale train_features and test_features\n",
    "scaler = StandardScaler()\n",
    "scaled_train_features = scaler.fit_transform(train_features)\n",
    "\n",
    "# Scale the test features to test_features\n",
    "scaled_test_features =scaler.transform(test_features)"
   ]
  },
  {
   "cell_type": "code",
   "execution_count": 10,
   "id": "4dc236fa",
   "metadata": {},
   "outputs": [
    {
     "data": {
      "text/plain": [
       "((3217, 8), (1585, 8))"
      ]
     },
     "execution_count": 10,
     "metadata": {},
     "output_type": "execute_result"
    }
   ],
   "source": [
    "scaled_train_features.shape, scaled_test_features.shape"
   ]
  },
  {
   "cell_type": "markdown",
   "id": "3a42916a",
   "metadata": {},
   "source": [
    "# 5- Principal Component Analysis on our scaled data\n",
    "\n",
    "use PCA to determine by how much we can reduce the dimensionality of our data. We can use scree-plots and cumulative explained ratio plots to find the number of components to use in further analyses.\n",
    "\n",
    "Scree-plots display the number of components against the variance explained by each component, sorted in descending order of variance. Scree-plots help us get a better sense of which components explain a sufficient amount of variance in our data. When using scree plots, an 'elbow' (a steep drop from one data point to the next) in the plot is typically used to decide on an appropriate cutoff."
   ]
  },
  {
   "cell_type": "code",
   "execution_count": 11,
   "id": "06091c82",
   "metadata": {},
   "outputs": [
    {
     "data": {
      "text/plain": [
       "Text(0.5, 1.0, 'scree Plot')"
      ]
     },
     "execution_count": 11,
     "metadata": {},
     "output_type": "execute_result"
    },
    {
     "data": {
      "image/png": "[encoded data removed]",
      "text/plain": [
       "<Figure size 432x288 with 1 Axes>"
      ]
     },
     "metadata": {
      "needs_background": "light"
     },
     "output_type": "display_data"
    }
   ],
   "source": [
    "# Get our explained variance ratios from PCA using all features\n",
    "pca = PCA()\n",
    "pca.fit(scaled_train_features)\n",
    "\n",
    "#retrieve explained variance ratio\n",
    "exp_variance = pca.explained_variance_ratio_\n",
    "num_components = pca.n_components_\n",
    "\n",
    "# plot the explained variance using a barplot\n",
    "fig, ax = plt.subplots()\n",
    "ax.bar(range(pca.n_components_), exp_variance)\n",
    "ax.set_xlabel('Principal Component #')\n",
    "ax.set_ylabel('Variance Explained')\n",
    "plt.title('scree Plot')"
   ]
  },
  {
   "cell_type": "markdown",
   "id": "396d9716",
   "metadata": {},
   "source": [
    "# 6-Further visualization of PCA\n",
    "\n",
    "Unfortunately, there does not appear to be a clear elbow in this scree plot, which means it is not straightforward to find the number of intrinsic dimensions using this method.\n",
    "\n",
    "But all is not lost! Instead, we can also look at the cumulative explained variance plot to determine how many features are required to explain, say, about 85% of the variance (cutoffs are somewhat arbitrary here, and usually decided upon by 'rules of thumb'). Once we determine the appropriate number of components, we can perform PCA with that many components, ideally reducing the dimensionality of our data."
   ]
  },
  {
   "cell_type": "code",
   "execution_count": 12,
   "id": "e2495f96",
   "metadata": {},
   "outputs": [
    {
     "data": {
      "text/plain": [
       "<matplotlib.lines.Line2D at 0x12315ab8820>"
      ]
     },
     "execution_count": 12,
     "metadata": {},
     "output_type": "execute_result"
    },
    {
     "data": {
      "image/png": "[encoded data removed]",
      "text/plain": [
       "<Figure size 432x288 with 1 Axes>"
      ]
     },
     "metadata": {
      "needs_background": "light"
     },
     "output_type": "display_data"
    }
   ],
   "source": [
    "#calculate the cumulative explained variance\n",
    "cum_exp_variance = np.cumsum(exp_variance) \n",
    "\n",
    "# Plot the cumulative explained variance and draw a dashed line at 0.85.\n",
    "fig, ax = plt.subplots()\n",
    "ax.plot(range(8), cum_exp_variance)\n",
    "ax.axhline(y=0.9, linestyle='--') #for considering features needed to explain 85% of the variance"
   ]
  },
  {
   "cell_type": "code",
   "execution_count": 13,
   "id": "bf42aa04",
   "metadata": {},
   "outputs": [
    {
     "data": {
      "text/plain": [
       "array([0.23875593, 0.41947064, 0.55688905, 0.68552743, 0.79885948,\n",
       "       0.88222572, 0.95247579, 1.        ])"
      ]
     },
     "execution_count": 13,
     "metadata": {},
     "output_type": "execute_result"
    }
   ],
   "source": [
    "cum_exp_variance"
   ]
  },
  {
   "cell_type": "markdown",
   "id": "d256c327",
   "metadata": {},
   "source": [
    "# 7 - Projecting on to our features"
   ]
  },
  {
   "cell_type": "markdown",
   "id": "0a298f4e",
   "metadata": {},
   "source": [
    "We saw from the plot that 6 features (remember indexing starts at 0) can explain 85% of the variance!\n",
    "\n",
    "Therefore, we can use 6 components to perform PCA and reduce the dimensionality of our train and test features."
   ]
  },
  {
   "cell_type": "code",
   "execution_count": 14,
   "id": "b1231841",
   "metadata": {},
   "outputs": [],
   "source": [
    "n_components = 6"
   ]
  },
  {
   "cell_type": "code",
   "execution_count": 15,
   "id": "e89d8be1",
   "metadata": {},
   "outputs": [],
   "source": [
    "\n",
    "# Perform PCA with the chosen number of components and project data onto components\n",
    "pca = PCA(n_components, random_state=10)\n",
    "\n",
    "# Fit and transform the scaled training features using pca\n",
    "train_pca = pca.fit_transform(scaled_train_features)\n",
    "\n",
    "\n",
    "# Fit and transform the scaled test features using pca\n",
    "test_pca = pca.transform(scaled_test_features)\n"
   ]
  },
  {
   "cell_type": "code",
   "execution_count": 16,
   "id": "8dcc33fd",
   "metadata": {},
   "outputs": [
    {
     "data": {
      "text/plain": [
       "((3217, 6), (1585, 6))"
      ]
     },
     "execution_count": 16,
     "metadata": {},
     "output_type": "execute_result"
    }
   ],
   "source": [
    "train_pca.shape, test_pca.shape"
   ]
  },
  {
   "cell_type": "markdown",
   "id": "43ef2d89",
   "metadata": {},
   "source": [
    "The shape confirms that we now have 6 features in total."
   ]
  },
  {
   "cell_type": "markdown",
   "id": "24bd7b1d",
   "metadata": {},
   "source": [
    "# 8- Train a decision tree to classify genre"
   ]
  },
  {
   "cell_type": "markdown",
   "id": "5b692b84",
   "metadata": {},
   "source": [
    "Now we can use the lower dimensional PCA projection of the data to classify songs into genres.\n",
    "\n",
    "Here, we will be using a simple algorithm known as a decision tree. Decision trees are rule-based classifiers that take in features and follow a 'tree structure' of binary decisions to ultimately classify a data point into one of two or more categories. In addition to being easy to both use and interpret, decision trees allow us to visualize the 'logic flowchart' that the model generates from the training data.\n",
    "\n",
    "Here is an example of a decision tree that demonstrates the process by which an input image (in this case, of a shape) might be classified based on the number of sides it has and whether it is rotated."
   ]
  },
  {
   "cell_type": "code",
   "execution_count": 17,
   "id": "704e086c",
   "metadata": {},
   "outputs": [
    {
     "data": {
      "text/plain": [
       "((3217, 6), (3217,), (1585, 6), (1585,))"
      ]
     },
     "execution_count": 17,
     "metadata": {},
     "output_type": "execute_result"
    }
   ],
   "source": [
    "train_pca.shape, train_labels.shape, test_pca.shape, test_labels.shape"
   ]
  },
  {
   "cell_type": "code",
   "execution_count": 18,
   "id": "6e70a1e2",
   "metadata": {},
   "outputs": [],
   "source": [
    "\n",
    "# Import Decision tree classifier\n",
    "from sklearn.tree import DecisionTreeClassifier\n",
    "\n",
    "# Create our decision tree\n",
    "tree = DecisionTreeClassifier(random_state=10)\n",
    "\n",
    "# Train our decision tree\n",
    "tree.fit(train_pca, train_labels)\n",
    "\n",
    "# Predict the labels for the test data\n",
    "pred_labels_tree = tree.predict(test_pca)"
   ]
  },
  {
   "cell_type": "code",
   "execution_count": 19,
   "id": "93f18b4f",
   "metadata": {},
   "outputs": [
    {
     "name": "stdout",
     "output_type": "stream",
     "text": [
      "Decision Tree Classifier: 0.8498422712933754\n"
     ]
    }
   ],
   "source": [
    "# Calculate the accuracy of the classifier\n",
    "accuracy = accuracy_score(test_labels, pred_labels_tree)\n",
    "\n",
    "print(\"Decision Tree Classifier:\", accuracy)\n"
   ]
  },
  {
   "cell_type": "markdown",
   "id": "a373f695",
   "metadata": {},
   "source": [
    "# 9- Compare our decision tree to a logistic regression"
   ]
  },
  {
   "cell_type": "markdown",
   "id": "96bcabeb",
   "metadata": {},
   "source": [
    "Although our tree's performance is decent, it's a bad idea to immediately assume that it's therefore the perfect tool for this job -- there's always the possibility of other models that will perform even better! It's always a worthwhile idea to at least test a few other algorithms and find the one that's best for our data.\n",
    "\n",
    "Sometimes simplest is best, and so we will start by applying logistic regression. Logistic regression makes use of what's called the logistic function to calculate the odds that a given data point belongs to a given class. Once we have both models, we can compare them on a few performance metrics, such as false positive and false negative rate (or how many points are inaccurately classified)."
   ]
  },
  {
   "cell_type": "code",
   "execution_count": 21,
   "id": "48e04bce",
   "metadata": {},
   "outputs": [
    {
     "name": "stdout",
     "output_type": "stream",
     "text": [
      "Decision Tree: \n",
      "               precision    recall  f1-score   support\n",
      "\n",
      "     Hip-Hop       0.62      0.63      0.62       315\n",
      "        Rock       0.91      0.90      0.91      1270\n",
      "\n",
      "    accuracy                           0.85      1585\n",
      "   macro avg       0.76      0.77      0.77      1585\n",
      "weighted avg       0.85      0.85      0.85      1585\n",
      "\n",
      "Logistic Regression: \n",
      "               precision    recall  f1-score   support\n",
      "\n",
      "     Hip-Hop       0.75      0.55      0.63       315\n",
      "        Rock       0.89      0.96      0.92      1270\n",
      "\n",
      "    accuracy                           0.87      1585\n",
      "   macro avg       0.82      0.75      0.78      1585\n",
      "weighted avg       0.87      0.87      0.87      1585\n",
      "\n"
     ]
    }
   ],
   "source": [
    "# Import LogisticRegression\n",
    "from sklearn.linear_model import LogisticRegression\n",
    "\n",
    "\n",
    "# Train our logistic regression and predict labels for the test set\n",
    "logreg = LogisticRegression(random_state=10)\n",
    "logreg.fit(train_pca, train_labels)\n",
    "pred_labels_logit = logreg.predict(test_pca)\n",
    "\n",
    "# Create the classification report for both models\n",
    "from sklearn.metrics import classification_report\n",
    "class_rep_tree = classification_report(test_labels, pred_labels_tree)\n",
    "class_rep_log = classification_report(test_labels, pred_labels_logit)\n",
    "# test_features.shape, pred_labels_tree.shape\n",
    "\n",
    "print(\"Decision Tree: \\n\", class_rep_tree)\n",
    "print(\"Logistic Regression: \\n\", class_rep_log)"
   ]
  },
  {
   "cell_type": "markdown",
   "id": "666025d0",
   "metadata": {},
   "source": [
    "# 10. Balance our data for greater performance"
   ]
  },
  {
   "cell_type": "markdown",
   "id": "2fc2a193",
   "metadata": {},
   "source": [
    "Both our models do similarly well, boasting an average precision of 87% each. However, looking at our classification report, we can see that rock songs are fairly well classified, but hip-hop songs are disproportionately misclassified as rock songs.\n",
    "\n",
    "Why might this be the case? Well, just by looking at the number of data points we have for each class, we see that we have far more data points for the rock classification than for hip-hop, potentially skewing our model's ability to distinguish between classes. This also tells us that most of our model's accuracy is driven by its ability to classify just rock songs, which is less than ideal.\n",
    "\n",
    "To account for this, we can weight the value of a correct classification in each class inversely to the occurrence of data points for each class. Since a correct classification for \"Rock\" is not more important than a correct classification for \"Hip-Hop\" (and vice versa), we only need to account for differences in sample size of our data points when weighting our classes here, and not relative importance of each class."
   ]
  },
  {
   "cell_type": "code",
   "execution_count": 22,
   "id": "37b7dca1",
   "metadata": {},
   "outputs": [],
   "source": [
    "# Subset a balanced proportion of data points\n",
    "hop_only = echo_tracks.loc[echo_tracks['genre_top'] == 'Hip-Hop']\n",
    "rock_only = echo_tracks.loc[echo_tracks['genre_top'] == 'Rock']\n",
    "\n",
    "# subset only the rock songs, and take a sample the same size as there are hip-hop songs\n",
    "rock_only = rock_only.sample(hop_only.shape[0], random_state=10)\n",
    "\n",
    "# concatenate the dataframes hop_only and rock_only\n",
    "rock_hop_bal = pd.concat([rock_only, hop_only])\n",
    "\n",
    "# The features, labels, and pca projection are created for the balanced dataframe\n",
    "features = rock_hop_bal.drop(['genre_top', 'track_id'], axis=1) \n",
    "labels = rock_hop_bal['genre_top']\n",
    "\n",
    "# Redefine the train and test set with the pca_projection from the balanced data\n",
    "train_features, test_features, train_labels, test_labels = train_test_split(\n",
    "    features, labels, random_state=10)\n",
    "\n",
    "train_pca = pca.fit_transform(scaler.fit_transform(train_features))\n",
    "test_pca = pca.transform(scaler.transform(test_features))"
   ]
  },
  {
   "cell_type": "markdown",
   "id": "0c7668ab",
   "metadata": {},
   "source": [
    "# 11. Does balancing our dataset improve model bias?"
   ]
  },
  {
   "cell_type": "markdown",
   "id": "a62eed9c",
   "metadata": {},
   "source": [
    "We've now balanced our dataset, but in doing so, we've removed a lot of data points that might have been crucial to training our models. Let's test to see if balancing our data improves model bias towards the \"Rock\" classification while retaining overall classification performance.\n",
    "\n",
    "Note that we have already reduced the size of our dataset and will go forward without applying any dimensionality reduction. In practice, we would consider dimensionality reduction more rigorously when dealing with vastly large datasets and when computation times become prohibitively large."
   ]
  },
  {
   "cell_type": "code",
   "execution_count": 23,
   "id": "c9290a15",
   "metadata": {},
   "outputs": [
    {
     "name": "stdout",
     "output_type": "stream",
     "text": [
      "Decision Tree: \n",
      "               precision    recall  f1-score   support\n",
      "\n",
      "     Hip-Hop       0.82      0.77      0.79       230\n",
      "        Rock       0.78      0.82      0.80       225\n",
      "\n",
      "    accuracy                           0.80       455\n",
      "   macro avg       0.80      0.80      0.80       455\n",
      "weighted avg       0.80      0.80      0.80       455\n",
      "\n",
      "Logistic Regression: \n",
      "               precision    recall  f1-score   support\n",
      "\n",
      "     Hip-Hop       0.84      0.80      0.82       230\n",
      "        Rock       0.81      0.85      0.83       225\n",
      "\n",
      "    accuracy                           0.82       455\n",
      "   macro avg       0.82      0.82      0.82       455\n",
      "weighted avg       0.83      0.82      0.82       455\n",
      "\n"
     ]
    }
   ],
   "source": [
    "# Train our decision tree on the balanced data\n",
    "tree = DecisionTreeClassifier(random_state=10)\n",
    "tree.fit(train_pca, train_labels)\n",
    "pred_labels_tree = tree.predict(test_pca)\n",
    "\n",
    "# Train our logistic regression on the balanced data\n",
    "logreg = LogisticRegression(random_state=10)\n",
    "logreg.fit(train_pca, train_labels)\n",
    "pred_labels_logit = logreg.predict(test_pca)\n",
    "\n",
    "# Compare the models\n",
    "print(\"Decision Tree: \\n\", classification_report(test_labels, pred_labels_tree ))\n",
    "print(\"Logistic Regression: \\n\", classification_report(test_labels, pred_labels_logit))"
   ]
  },
  {
   "cell_type": "markdown",
   "id": "6a81d650",
   "metadata": {},
   "source": [
    "# 12. Using cross-validation to evaluate our models"
   ]
  },
  {
   "cell_type": "markdown",
   "id": "ac67bed7",
   "metadata": {},
   "source": [
    "Success! Balancing our data has removed bias towards the more prevalent class. To get a good sense of how well our models are actually performing, we can apply what's called cross-validation (CV). This step allows us to compare models in a more rigorous fashion.\n",
    "\n",
    "Before we can perform cross-validation we will need to create pipelines to scale our data, perform PCA, and instantiate our model of choice - DecisionTreeClassifier or LogisticRegression.\n",
    "\n",
    "Since the way our data is split into train and test sets can impact model performance, CV attempts to split the data multiple ways and test the model on each of the splits. Although there are many different CV methods, all with their own advantages and disadvantages, we will use what's known as K-fold CV here. K-fold first splits the data into K different, equally sized subsets. Then, it iteratively uses each subset as a test set while using the remainder of the data as train sets. Finally, we can then aggregate the results from each fold for a final model performance score."
   ]
  },
  {
   "cell_type": "code",
   "execution_count": 24,
   "id": "44c1955c",
   "metadata": {},
   "outputs": [
    {
     "name": "stdout",
     "output_type": "stream",
     "text": [
      "Decision Tree: 0.7582417582417582 Logistic Regression: 0.782967032967033\n"
     ]
    }
   ],
   "source": [
    "from sklearn.model_selection import KFold, cross_val_score\n",
    "from sklearn.pipeline import Pipeline\n",
    "tree_pipe = Pipeline([(\"scaler\", StandardScaler()), (\"pca\", PCA(n_components=6)), \n",
    "                      (\"tree\", DecisionTreeClassifier(random_state=10))])\n",
    "logreg_pipe = Pipeline([(\"scaler\", StandardScaler()), (\"pca\", PCA(n_components=6)), \n",
    "                        (\"logreg\", LogisticRegression(random_state=10))])\n",
    "\n",
    "# Set up our K-fold cross-validation\n",
    "kf = KFold(n_splits=10)\n",
    "\n",
    "tree=DecisionTreeClassifier(random_state=10)\n",
    "logreg =LogisticRegression(random_state=10)\n",
    "\n",
    "\n",
    "# Train our models using KFold cv\n",
    "tree_score = cross_val_score(tree_pipe, features, labels, cv=kf)\n",
    "logit_score = cross_val_score(logreg_pipe, features, labels, cv=kf)\n",
    "\n",
    "# Print the mean of each array of scores\n",
    "print(\"Decision Tree:\", np.mean(tree_score), \"Logistic Regression:\", np.mean(logit_score))"
   ]
  }
 ],
 "metadata": {
  "kernelspec": {
   "display_name": "Python 3",
   "language": "python",
   "name": "python3"
  },
  "language_info": {
   "codemirror_mode": {
    "name": "ipython",
    "version": 3
   },
   "file_extension": ".py",
   "mimetype": "text/x-python",
   "name": "python",
   "nbconvert_exporter": "python",
   "pygments_lexer": "ipython3",
   "version": "3.8.8"
  }
 },
 "nbformat": 4,
 "nbformat_minor": 5
}
